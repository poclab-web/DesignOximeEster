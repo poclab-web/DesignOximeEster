{
 "cells": [
  {
   "cell_type": "markdown",
   "id": "c9f1d2e6-cc1f-4ede-9d79-8d67df6aacc9",
   "metadata": {},
   "source": [
    "## install env"
   ]
  },
  {
   "cell_type": "code",
   "execution_count": null,
   "id": "7c242059-ce5a-4fbb-b882-a6ba7d2b877f",
   "metadata": {},
   "outputs": [],
   "source": []
  },
  {
   "cell_type": "code",
   "execution_count": null,
   "id": "ede4e8cd-9f79-4fd8-a55a-6e09fe22e7f8",
   "metadata": {},
   "outputs": [],
   "source": [
    "## install sample data\n",
    "!mkdir -p ./data\n",
    "!mkdir -p ./features\n",
    "\n",
    "!gdown 1aeF_wfRu8h49SduyW09V7rd11R6mGqt3 -O ./data\n",
    "!ls ./data"
   ]
  },
  {
   "cell_type": "code",
   "execution_count": 1,
   "id": "7e23cf2d-29db-4bd0-8d10-52fd934a7a06",
   "metadata": {},
   "outputs": [],
   "source": [
    "## Feature extraction"
   ]
  },
  {
   "cell_type": "code",
   "execution_count": null,
   "id": "ebad6c00-8d94-4415-b984-7877cafb7bec",
   "metadata": {},
   "outputs": [],
   "source": [
    "# 変数を定義\n",
    "input_file = \"./data/freesolv.csv\"\n",
    "output_dir = \"./features/freesolv\"\n",
    "smiles_column = \"smiles\"\n",
    "dataset_name = \"freesolv\"\n",
    "\n",
    "!bash preprocess_train.sh {input_file} {output_dir} {smiles_column} {dataset_name}"
   ]
  },
  {
   "cell_type": "code",
   "execution_count": null,
   "id": "fd5b6172-5ac9-4361-80b5-b1531add18ed",
   "metadata": {},
   "outputs": [],
   "source": [
    "# 変数の定義\n",
    "data_file = \"data/qm9.csv\"\n",
    "feature_dir = \"feature/qm9\"\n",
    "task_type = \"regression\"\n",
    "adj_file = f\"{feature_dir}/adj.npz\"\n",
    "clb_file = f\"{feature_dir}/clb.npz\"\n",
    "dist_file = f\"{feature_dir}/dist.npz\"\n",
    "rdkit_file = f\"{feature_dir}/rdkit.npz\"\n",
    "target_column = \"homo\"\n",
    "smiles_column = \"smiles\"\n",
    "dataset_name = \"qm9\"\n",
    "\n",
    "# 方法1: !コマンドで実行（fストリング使用）\n",
    "!bash train.sh {data_file} {feature_dir} {task_type} {adj_file} {clb_file} {dist_file} {rdkit_file} {target_column} {smiles_column} {dataset_name}"
   ]
  }
 ],
 "metadata": {
  "kernelspec": {
   "display_name": "Python 3 (ipykernel)",
   "language": "python",
   "name": "python3"
  },
  "language_info": {
   "codemirror_mode": {
    "name": "ipython",
    "version": 3
   },
   "file_extension": ".py",
   "mimetype": "text/x-python",
   "name": "python",
   "nbconvert_exporter": "python",
   "pygments_lexer": "ipython3",
   "version": "3.10.6"
  }
 },
 "nbformat": 4,
 "nbformat_minor": 5
}
