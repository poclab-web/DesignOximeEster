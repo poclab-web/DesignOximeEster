{
 "cells": [
  {
   "cell_type": "code",
   "execution_count": 1,
   "id": "c60690f9-654e-46a4-ac7e-d1ef0169ccfd",
   "metadata": {},
   "outputs": [],
   "source": [
    "import matplotlib.pyplot as plt\n",
    "import os"
   ]
  },
  {
   "cell_type": "code",
   "execution_count": 2,
   "id": "15629c31-6653-4ca6-8134-bda446e7453b",
   "metadata": {},
   "outputs": [],
   "source": [
    "def load_smiles(smi_path):\n",
    "    with open(smi_path, 'r') as f:\n",
    "        smiles = f.readlines()\n",
    "        smiles = [s.strip() for s in smiles]\n",
    "    return smiles"
   ]
  },
  {
   "cell_type": "code",
   "execution_count": 3,
   "id": "46a2ac76-d959-47e4-8f00-8630363b4b3d",
   "metadata": {},
   "outputs": [],
   "source": [
    "smiles_path = \"/mnt/ssd2/Chem/photopolymerization_initiator/ML/MolGen/data/mydata/oxime_ester.smi\"\n",
    "smiles = load_smiles(smiles_path)"
   ]
  },
  {
   "cell_type": "code",
   "execution_count": 4,
   "id": "8120530e-d773-4709-a876-39c15d82ece1",
   "metadata": {},
   "outputs": [
    {
     "name": "stdout",
     "output_type": "stream",
     "text": [
      "['CC(C)(C)C1CCC(=NOC(=O)c2ccc([N+](=O)[O-])cc2)CC1', 'O=C1C=CC(=NOC(=O)c2cccc([N+](=O)[O-])c2)C=C1', 'O=C(ON=C1CCCCCCCCCCC1)c1ccc(F)cc1', 'Cc1ncc(COC(=O)c2ccccc2)c(C=NOC(=O)c2ccccc2)c1OC(=O)c1ccccc1', 'CCOC(=O)/C(=N\\\\OC(=O)c1ccc(Cl)cc1)c1csc(NC(=O)c2ccc(Cl)cc2)n1', 'O=C(O/N=C\\\\c1cc([N+](=O)[O-])ccc1SC1CCCCC1)c1ccc(Cl)cc1', 'CC(=O)Nc1ccc(/C=N\\\\OC(C)=O)cc1', 'COc1ccccc1/C=N/OC(=O)c1cccc([N+](=O)[O-])c1', 'CC(C)(Oc1ccc(Cl)cc1)/C(N)=N/OC(=O)c1cccnc1', 'O=C(O/N=C/c1cc[n+]([O-])cc1)c1ccccc1']\n"
     ]
    }
   ],
   "source": [
    "print(smiles[:10])"
   ]
  },
  {
   "cell_type": "code",
   "execution_count": 5,
   "id": "b7ca5f2e-f446-41ce-9b9e-9e6851f6b323",
   "metadata": {},
   "outputs": [],
   "source": [
    "smiles_length = [len(s) for s in smiles]"
   ]
  },
  {
   "cell_type": "code",
   "execution_count": 7,
   "id": "a98c00bb-ff6c-49d0-aa2e-95f0ae7987d7",
   "metadata": {},
   "outputs": [
    {
     "data": {
      "text/plain": [
       "(array([ 8., 16., 14.,  9.,  5.,  8.,  0.,  1.,  0.,  3.]),\n",
       " array([ 29. ,  38.2,  47.4,  56.6,  65.8,  75. ,  84.2,  93.4, 102.6,\n",
       "        111.8, 121. ]),\n",
       " <BarContainer object of 10 artists>)"
      ]
     },
     "execution_count": 7,
     "metadata": {},
     "output_type": "execute_result"
    },
    {
     "data": {
      "image/png": "[encoded data removed]",
      "text/plain": [
       "<Figure size 640x480 with 1 Axes>"
      ]
     },
     "metadata": {},
     "output_type": "display_data"
    }
   ],
   "source": [
    "plt.hist(smiles_length)"
   ]
  },
  {
   "cell_type": "code",
   "execution_count": null,
   "id": "11e671d1-e680-4179-b722-d860beb9bfb3",
   "metadata": {},
   "outputs": [],
   "source": [
    "import pandas as pd\n",
    "import os\n",
    "from rdkit import Chem\n",
    "from rdkit.Chem import Draw\n",
    "from PIL import Image, ImageDraw, ImageFont\n",
    "from rdkit.Chem import AllChem, PandasTools"
   ]
  },
  {
   "cell_type": "code",
   "execution_count": null,
   "id": "7e25a12e-121a-41a4-8ff7-a2d8c92c0327",
   "metadata": {},
   "outputs": [],
   "source": [
    "def mol2img(mol, img_save_path, text=None):\n",
    "    # 分子の画像を生成\n",
    "    img = Draw.MolToImage(mol, size=(300, 300))\n",
    "    draw = ImageDraw.Draw(img)\n",
    "\n",
    "    if text is not None:\n",
    "        font = ImageFont.load_default()\n",
    "        # テキストの位置を左上に変更\n",
    "        text_position = (10, 10) # 左上\n",
    "        draw.text(text_position, text, fill=(0, 0, 0), font=font)\n",
    "\n",
    "    # 画像をファイルに保存\n",
    "    img.save(img_save_path)"
   ]
  },
  {
   "cell_type": "code",
   "execution_count": null,
   "id": "01958fe8-328c-4043-aeda-2cb329ba6810",
   "metadata": {},
   "outputs": [],
   "source": [
    "csv_path = \"/mnt/ssd2/Chem/photopolymerization_initiator/ML/MolGen/filter_20240112011535.csv\"\n",
    "df = pd.read_csv(csv_path)"
   ]
  },
  {
   "cell_type": "code",
   "execution_count": 7,
   "id": "d6ed3798-44a8-4836-aa88-dcefbd2c9059",
   "metadata": {},
   "outputs": [
    {
     "data": {
      "text/html": [
       "<div>\n",
       "<style scoped>\n",
       "    .dataframe tbody tr th:only-of-type {\n",
       "        vertical-align: middle;\n",
       "    }\n",
       "\n",
       "    .dataframe tbody tr th {\n",
       "        vertical-align: top;\n",
       "    }\n",
       "\n",
       "    .dataframe thead th {\n",
       "        text-align: right;\n",
       "    }\n",
       "</style>\n",
       "<table border=\"1\" class=\"dataframe\">\n",
       "  <thead>\n",
       "    <tr style=\"text-align: right;\">\n",
       "      <th></th>\n",
       "      <th>Smiles</th>\n",
       "      <th>T1</th>\n",
       "      <th>S1</th>\n",
       "      <th>S1_osc</th>\n",
       "      <th>similarity</th>\n",
       "      <th>Scaffold</th>\n",
       "    </tr>\n",
       "  </thead>\n",
       "  <tbody>\n",
       "    <tr>\n",
       "      <th>44</th>\n",
       "      <td>C1C(C)(CC)CCn2c3ccc(C#Cc4ccc(C=NOC(C)=O)cc4)cc...</td>\n",
       "      <td>2.005534</td>\n",
       "      <td>3.374749</td>\n",
       "      <td>1.584115</td>\n",
       "      <td>0.363636</td>\n",
       "      <td>C(#Cc1ccc2c(c1)C1=CCCCCN12)c1ccccc1</td>\n",
       "    </tr>\n",
       "    <tr>\n",
       "      <th>855</th>\n",
       "      <td>CCC(=O)O\\N=C/c1cc2ccc1-c1ccc(N(c3ccccc3)c3cccc...</td>\n",
       "      <td>2.264805</td>\n",
       "      <td>3.486293</td>\n",
       "      <td>1.026367</td>\n",
       "      <td>0.428571</td>\n",
       "      <td>c1ccc(N(c2ccccc2)c2ccc3c(c2)OCc2ccc-3cc2)cc1</td>\n",
       "    </tr>\n",
       "    <tr>\n",
       "      <th>1989</th>\n",
       "      <td>CCCCCCN1c2ccc(C#Cc3ccc(/C=N\\OC(=O)c4ccccc4)cc3...</td>\n",
       "      <td>2.244015</td>\n",
       "      <td>3.356254</td>\n",
       "      <td>1.188039</td>\n",
       "      <td>0.676923</td>\n",
       "      <td>O=C(O/N=C\\c1ccc(C#Cc2ccc3c(c2)Sc2cc(-c4ccccc4)...</td>\n",
       "    </tr>\n",
       "    <tr>\n",
       "      <th>3323</th>\n",
       "      <td>c1c(Sc2ccc(C#Cc3ccc(/C=N\\OC(=O)C)cc3)cc2)cc(C#...</td>\n",
       "      <td>2.035686</td>\n",
       "      <td>3.283830</td>\n",
       "      <td>2.231208</td>\n",
       "      <td>0.500000</td>\n",
       "      <td>C(#Cc1ccc(Sc2cccc(C#Cc3ccccc3)c2)cc1)c1ccccc1</td>\n",
       "    </tr>\n",
       "    <tr>\n",
       "      <th>4031</th>\n",
       "      <td>C/C(=N\\OC(=O)c1ccccc1)c1ccc2c(c1)Sc1cc(-c3ccc(...</td>\n",
       "      <td>2.370831</td>\n",
       "      <td>3.467956</td>\n",
       "      <td>1.270928</td>\n",
       "      <td>0.473684</td>\n",
       "      <td>O=C(ON=Cc1ccc2c(c1)Sc1cc(-c3ccccc3)ccc1N2c1ccc...</td>\n",
       "    </tr>\n",
       "    <tr>\n",
       "      <th>...</th>\n",
       "      <td>...</td>\n",
       "      <td>...</td>\n",
       "      <td>...</td>\n",
       "      <td>...</td>\n",
       "      <td>...</td>\n",
       "      <td>...</td>\n",
       "    </tr>\n",
       "    <tr>\n",
       "      <th>422557</th>\n",
       "      <td>N(C(C)=O)/N=C(/C)C(c1ccc(C#Cc2ccc(N(C)C)cc2)cc...</td>\n",
       "      <td>2.030307</td>\n",
       "      <td>3.420253</td>\n",
       "      <td>1.017655</td>\n",
       "      <td>0.500000</td>\n",
       "      <td>C(#Cc1ccccc1)c1ccccc1</td>\n",
       "    </tr>\n",
       "    <tr>\n",
       "      <th>422577</th>\n",
       "      <td>CC(=O)O\\N=C\\c1ccc2oc(-c3ccc(C#Cc4ccccc4)cc3)nc2c1</td>\n",
       "      <td>2.216614</td>\n",
       "      <td>3.491756</td>\n",
       "      <td>1.333011</td>\n",
       "      <td>0.404762</td>\n",
       "      <td>C(#Cc1ccc(-c2nc3ccccc3o2)cc1)c1ccccc1</td>\n",
       "    </tr>\n",
       "    <tr>\n",
       "      <th>422808</th>\n",
       "      <td>COCCn1c(C#Cc2ccc(Nc3cccc(C#Cc4ccc(C=NOC(C)=O)c...</td>\n",
       "      <td>2.111025</td>\n",
       "      <td>3.376153</td>\n",
       "      <td>2.058997</td>\n",
       "      <td>0.391304</td>\n",
       "      <td>C(#Cc1cccc(Nc2ccc(C#Cc3nc4ccccc4[nH]3)cc2)c1)c...</td>\n",
       "    </tr>\n",
       "    <tr>\n",
       "      <th>423121</th>\n",
       "      <td>CCCCCCN1c2ccccc2Sc2cc(C#Cc3ccc(C=NOC(C)=O)cc3)...</td>\n",
       "      <td>2.292698</td>\n",
       "      <td>3.391898</td>\n",
       "      <td>1.096038</td>\n",
       "      <td>0.583333</td>\n",
       "      <td>C(#Cc1ccc2c(c1)Sc1ccccc1N2)c1ccccc1</td>\n",
       "    </tr>\n",
       "    <tr>\n",
       "      <th>423352</th>\n",
       "      <td>CCCCCCn1c(=N\\OC(=O)c2ccccc2)c2cc(C#Cc3ccc(OC)c...</td>\n",
       "      <td>2.060192</td>\n",
       "      <td>3.399904</td>\n",
       "      <td>1.120412</td>\n",
       "      <td>0.426230</td>\n",
       "      <td>O=C(ON=C1Nc2ccc(C#Cc3ccccc3)cc21)c1ccccc1</td>\n",
       "    </tr>\n",
       "  </tbody>\n",
       "</table>\n",
       "<p>592 rows × 6 columns</p>\n",
       "</div>"
      ],
      "text/plain": [
       "                                                   Smiles        T1        S1  \\\n",
       "44      C1C(C)(CC)CCn2c3ccc(C#Cc4ccc(C=NOC(C)=O)cc4)cc...  2.005534  3.374749   \n",
       "855     CCC(=O)O\\N=C/c1cc2ccc1-c1ccc(N(c3ccccc3)c3cccc...  2.264805  3.486293   \n",
       "1989    CCCCCCN1c2ccc(C#Cc3ccc(/C=N\\OC(=O)c4ccccc4)cc3...  2.244015  3.356254   \n",
       "3323    c1c(Sc2ccc(C#Cc3ccc(/C=N\\OC(=O)C)cc3)cc2)cc(C#...  2.035686  3.283830   \n",
       "4031    C/C(=N\\OC(=O)c1ccccc1)c1ccc2c(c1)Sc1cc(-c3ccc(...  2.370831  3.467956   \n",
       "...                                                   ...       ...       ...   \n",
       "422557  N(C(C)=O)/N=C(/C)C(c1ccc(C#Cc2ccc(N(C)C)cc2)cc...  2.030307  3.420253   \n",
       "422577  CC(=O)O\\N=C\\c1ccc2oc(-c3ccc(C#Cc4ccccc4)cc3)nc2c1  2.216614  3.491756   \n",
       "422808  COCCn1c(C#Cc2ccc(Nc3cccc(C#Cc4ccc(C=NOC(C)=O)c...  2.111025  3.376153   \n",
       "423121  CCCCCCN1c2ccccc2Sc2cc(C#Cc3ccc(C=NOC(C)=O)cc3)...  2.292698  3.391898   \n",
       "423352  CCCCCCn1c(=N\\OC(=O)c2ccccc2)c2cc(C#Cc3ccc(OC)c...  2.060192  3.399904   \n",
       "\n",
       "          S1_osc  similarity  \\\n",
       "44      1.584115    0.363636   \n",
       "855     1.026367    0.428571   \n",
       "1989    1.188039    0.676923   \n",
       "3323    2.231208    0.500000   \n",
       "4031    1.270928    0.473684   \n",
       "...          ...         ...   \n",
       "422557  1.017655    0.500000   \n",
       "422577  1.333011    0.404762   \n",
       "422808  2.058997    0.391304   \n",
       "423121  1.096038    0.583333   \n",
       "423352  1.120412    0.426230   \n",
       "\n",
       "                                                 Scaffold  \n",
       "44                    C(#Cc1ccc2c(c1)C1=CCCCCN12)c1ccccc1  \n",
       "855          c1ccc(N(c2ccccc2)c2ccc3c(c2)OCc2ccc-3cc2)cc1  \n",
       "1989    O=C(O/N=C\\c1ccc(C#Cc2ccc3c(c2)Sc2cc(-c4ccccc4)...  \n",
       "3323        C(#Cc1ccc(Sc2cccc(C#Cc3ccccc3)c2)cc1)c1ccccc1  \n",
       "4031    O=C(ON=Cc1ccc2c(c1)Sc1cc(-c3ccccc3)ccc1N2c1ccc...  \n",
       "...                                                   ...  \n",
       "422557                              C(#Cc1ccccc1)c1ccccc1  \n",
       "422577              C(#Cc1ccc(-c2nc3ccccc3o2)cc1)c1ccccc1  \n",
       "422808  C(#Cc1cccc(Nc2ccc(C#Cc3nc4ccccc4[nH]3)cc2)c1)c...  \n",
       "423121                C(#Cc1ccc2c(c1)Sc1ccccc1N2)c1ccccc1  \n",
       "423352          O=C(ON=C1Nc2ccc(C#Cc3ccccc3)cc21)c1ccccc1  \n",
       "\n",
       "[592 rows x 6 columns]"
      ]
     },
     "execution_count": 7,
     "metadata": {},
     "output_type": "execute_result"
    }
   ],
   "source": [
    "t1_thread_hold = 2.0\n",
    "s1_thread_hold = 3.5\n",
    "s1_osc_thread_hold = 1.0\n",
    "similarity_thread_hold = 0.7\n",
    "df_selected = df[((df[\"T1\"] > t1_thread_hold) & (df[\"S1\"] < s1_thread_hold) & (df[\"S1_osc\"] > s1_osc_thread_hold) & (df[\"similarity\"] < similarity_thread_hold))]\n",
    "df_selected"
   ]
  },
  {
   "cell_type": "code",
   "execution_count": null,
   "id": "47c53194-2c26-44c1-8a8c-5266c3e19fab",
   "metadata": {},
   "outputs": [],
   "source": [
    "!pip list | grep rdkit"
   ]
  },
  {
   "cell_type": "code",
   "execution_count": 8,
   "id": "7f32cb65-3529-441c-baa2-206ea71cab89",
   "metadata": {},
   "outputs": [],
   "source": [
    "df_selected.to_csv(\"selected.csv\")"
   ]
  },
  {
   "cell_type": "code",
   "execution_count": 9,
   "id": "d563d9f5-20c9-4d42-ae10-f08a693219fd",
   "metadata": {},
   "outputs": [],
   "source": [
    "save_dir = \"/mnt/ssd2/Chem/photopolymerization_initiator/ML/MolGen/data/results/imgs2\"\n",
    "os.makedirs(save_dir, exist_ok=True)"
   ]
  },
  {
   "cell_type": "code",
   "execution_count": 11,
   "id": "9379439d-439e-42f0-b024-ad43c978d6c0",
   "metadata": {},
   "outputs": [],
   "source": [
    "smiles_list = df_selected[\"Smiles\"].values.tolist()"
   ]
  },
  {
   "cell_type": "code",
   "execution_count": 13,
   "id": "72f41386-d94f-4dad-b601-40d2d12612f8",
   "metadata": {},
   "outputs": [],
   "source": [
    "for i, smi in enumerate(smiles_list):\n",
    "    save_path = os.path.join(save_dir, f\"{i}.png\")\n",
    "    mol = Chem.MolFromSmiles(smi)\n",
    "    mol2img(mol, save_path)"
   ]
  },
  {
   "cell_type": "code",
   "execution_count": null,
   "id": "86661c7a-38ba-4ad0-9989-39b9f7d098d7",
   "metadata": {},
   "outputs": [],
   "source": []
  }
 ],
 "metadata": {
  "kernelspec": {
   "display_name": "Python 3 (ipykernel)",
   "language": "python",
   "name": "python3"
  },
  "language_info": {
   "codemirror_mode": {
    "name": "ipython",
    "version": 3
   },
   "file_extension": ".py",
   "mimetype": "text/x-python",
   "name": "python",
   "nbconvert_exporter": "python",
   "pygments_lexer": "ipython3",
   "version": "3.8.3"
  }
 },
 "nbformat": 4,
 "nbformat_minor": 5
}
